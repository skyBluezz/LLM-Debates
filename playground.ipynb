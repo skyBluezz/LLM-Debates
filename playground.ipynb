{
 "cells": [
  {
   "cell_type": "code",
   "execution_count": null,
   "metadata": {
    "metadata": {}
   },
   "outputs": [],
   "source": [
    "import ast"
   ]
  },
  {
   "cell_type": "code",
   "execution_count": null,
   "metadata": {
    "metadata": {}
   },
   "outputs": [],
   "source": [
    "import os \n",
    "import torch \n",
    "from diffusers import StableDiffusionPipeline, DiffusionPipeline\n",
    "import matplotlib.pyplot as plt \n",
    "import numpy as np \n",
    "\n",
    "model_path = \"./outputs\"\n",
    "pipe = DiffusionPipeline.from_pretrained(model_path, torch_dtype=torch.float16, )\n",
    "pipe.to(\"cuda\")\n"
   ]
  },
  {
   "cell_type": "code",
   "execution_count": null,
   "metadata": {
    "metadata": {}
   },
   "outputs": [],
   "source": [
    "prompts = [\n",
    "    \"Japan\",\n",
    "    \"Gator\",\n",
    "    \"Fornite\",\n",
    "    \"Mafia\",\n",
    "    \"Derek Jeter\",\n",
    "    \"Shohei Ohtani\",\n",
    "    \"Surfboard\",\n",
    "    \"Neil Armstrong\",\n",
    "    \"Ferrari\",\n",
    "    \"The Walking Dead\",\n",
    "    \"hippies\",\n",
    "    \"Gen Z\",\n",
    "    \"Gauss Law\",\n",
    "    \"small dog with huge head\",\n",
    "    \"water balloon\",\n",
    "    \"Air Bud (dog)\",\n",
    "    \"Burrito\",\n",
    "    \"Space rocket\",\n",
    "    \"The Bible\",\n",
    "    \"Spiderman\",\n",
    "    \"Sphagetti\",\n",
    "    \"Panda\",\n",
    "    \"Instagram\"\n",
    "]\n",
    "\n",
    "for prompt in prompts:\n",
    "    image = pipe(prompt=prompt, height=128, width=128, num_inference_steps=100, ).images[0]\n",
    "    # image = np.flip(np.array(image),1)\n",
    "    image = np.array(image)\n",
    "    plt.imshow(image)\n",
    "    plt.title(f\"{prompt}\")\n",
    "    plt.axis('off')\n",
    "    plt.imsave(f\"example_outputs/{prompt}.png\", image)\n"
   ]
  },
  {
   "cell_type": "code",
   "execution_count": null,
   "metadata": {},
   "outputs": [],
   "source": []
  }
 ],
 "metadata": {
  "kernelspec": {
   "display_name": "sakana",
   "language": "python",
   "name": "python3"
  },
  "language_info": {
   "codemirror_mode": {
    "name": "ipython",
    "version": 3
   },
   "file_extension": ".py",
   "mimetype": "text/x-python",
   "name": "python",
   "nbconvert_exporter": "python",
   "pygments_lexer": "ipython3",
   "version": "3.10.12"
  }
 },
 "nbformat": 4,
 "nbformat_minor": 2
}
